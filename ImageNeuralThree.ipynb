{
 "cells": [
  {
   "cell_type": "markdown",
   "id": "490083ba-de65-475a-ac9f-5bb191392573",
   "metadata": {},
   "source": [
    "# Handwritten Character Classification Using Convolutional Neural Networks (CNNs)"
   ]
  },
  {
   "cell_type": "markdown",
   "id": "0d8e60e7-f479-4c16-ad2b-55ea9c939435",
   "metadata": {},
   "source": [
    "**Author:** Alperen Karadağ   **Date:** 12.09.2024"
   ]
  },
  {
   "cell_type": "markdown",
   "id": "27c21152-ae25-427e-b390-e76dd17b4433",
   "metadata": {},
   "source": [
    "**Handwritten character classification** is a fundamental task in computer vision and pattern recognition, with applications ranging from digit recognition in postal sorting to text recognition in scanned documents. Although various supervised machine learning algorithms have been tested  for the use of image classifiction tasks of this nature, it is generally accepted that such classifications are more suitable endeavor for **deep learning** algorithms like **neural networks**.\n",
    "\n",
    "**Convolutional Neural Networks (CNNs)** are a certain type of neural networks which function particularly effectively for image classification tasks due to their ability to capture **spatial hierarchies** in images. By using convolutional layers to detect edges, textures, and patterns, **CNNs** can achieve **high accuracy** in character recognition tasks compared to traditional machine learning algorithms.\n",
    "\n",
    "For this project, we will use an **image directory** containing sets of labeled training images and a **dataset** consisting of directory file paths of said handwritten characters and their labels. The dataset is comprised of **grayscale images of characters**, each labeled with its corresponding character. \n",
    "\n",
    "First, we will **load**, **visualize**, and **preprocess** these images to make it suitable for training the CNN via data **normalization**, **reshaping**, and **splitting** into training and testing sets. \n",
    "\n",
    "We will then **construct** a **CNN** model using **Keras**, made up of **convolutional layers**, **pooling layers**, and **dense layers**. The model will be designed to automatically learn hierarchical features from the image data.\n",
    "\n",
    "After that comes **compiling** and **training** the **CNN** on the preprocessed dataset, employing techniques such as data augmentation and dropout to improve generalization and prevent overfitting. \n",
    "\n",
    "This will bring us to the **assessment** phase of the performance of the trained model on metrics such as **validation accuracy** and **loss**. We will also visualize some **predictions** to understand the model's performance on the test set.\n",
    "\n",
    "Finally, we will write a small **DEMO program** as an example of our neural network in action for image classification, while discussing the model’s strengths and limitations, and exploring potential improvements or future work in our **conclusion**.\n",
    "\n",
    "The source of the dataset can be found on [this](https://www.kaggle.com/datasets/dhruvildave/english-handwritten-characters-dataset/data) page on **Kaggle**."
   ]
  },
  {
   "cell_type": "markdown",
   "id": "ce445b9c-4b1b-4b26-af0d-07893356229c",
   "metadata": {},
   "source": [
    "## Importing the Necessary Modules"
   ]
  },
  {
   "cell_type": "code",
   "execution_count": 118,
   "id": "d89cefd5-5d96-4f23-82a0-6f2152cb43dc",
   "metadata": {},
   "outputs": [],
   "source": [
    "import pandas as pd # Import pandas for data manipulation and analysis\n",
    "import numpy as np # Import NumPy for numerical operations and array handling\n",
    "import matplotlib.pyplot as plt # Import Matplotlib for creating static visualizations and plots.\n",
    "import tensorflow as tf"
   ]
  },
  {
   "cell_type": "markdown",
   "id": "1c79ef83-ac54-46a8-8d70-35aa9ae045e2",
   "metadata": {},
   "source": [
    "## Displaying the Dataset"
   ]
  },
  {
   "cell_type": "markdown",
   "id": "92da4ea5-20bf-4ac6-b4dc-8760a913ec5c",
   "metadata": {},
   "source": [
    "The **`DataFrame`** object provided by the **Pandas** module will be used to examine and process the student performance data. The **`read_csv()`** method is especially useful to carry this out as it returns a DataFrame object with rows and columns corresponding to the rows and columns in the file."
   ]
  },
  {
   "cell_type": "code",
   "execution_count": 121,
   "id": "6b478aad-4965-4dc4-abb2-52d1d0cfde8b",
   "metadata": {},
   "outputs": [],
   "source": [
    "df = pd.read_csv(\"/Users/alperenkaradag/Desktop/Internship1/Project3/english.csv\")"
   ]
  },
  {
   "cell_type": "code",
   "execution_count": 122,
   "id": "0e2b4a74-aff6-4241-9ae2-1a7bc6dfa5b7",
   "metadata": {},
   "outputs": [
    {
     "data": {
      "text/html": [
       "<div>\n",
       "<style scoped>\n",
       "    .dataframe tbody tr th:only-of-type {\n",
       "        vertical-align: middle;\n",
       "    }\n",
       "\n",
       "    .dataframe tbody tr th {\n",
       "        vertical-align: top;\n",
       "    }\n",
       "\n",
       "    .dataframe thead th {\n",
       "        text-align: right;\n",
       "    }\n",
       "</style>\n",
       "<table border=\"1\" class=\"dataframe\">\n",
       "  <thead>\n",
       "    <tr style=\"text-align: right;\">\n",
       "      <th></th>\n",
       "      <th>image</th>\n",
       "      <th>label</th>\n",
       "    </tr>\n",
       "  </thead>\n",
       "  <tbody>\n",
       "    <tr>\n",
       "      <th>0</th>\n",
       "      <td>Img/img001-001.png</td>\n",
       "      <td>0</td>\n",
       "    </tr>\n",
       "    <tr>\n",
       "      <th>1</th>\n",
       "      <td>Img/img001-002.png</td>\n",
       "      <td>0</td>\n",
       "    </tr>\n",
       "    <tr>\n",
       "      <th>2</th>\n",
       "      <td>Img/img001-003.png</td>\n",
       "      <td>0</td>\n",
       "    </tr>\n",
       "    <tr>\n",
       "      <th>3</th>\n",
       "      <td>Img/img001-004.png</td>\n",
       "      <td>0</td>\n",
       "    </tr>\n",
       "    <tr>\n",
       "      <th>4</th>\n",
       "      <td>Img/img001-005.png</td>\n",
       "      <td>0</td>\n",
       "    </tr>\n",
       "    <tr>\n",
       "      <th>...</th>\n",
       "      <td>...</td>\n",
       "      <td>...</td>\n",
       "    </tr>\n",
       "    <tr>\n",
       "      <th>3405</th>\n",
       "      <td>Img/img062-051.png</td>\n",
       "      <td>z</td>\n",
       "    </tr>\n",
       "    <tr>\n",
       "      <th>3406</th>\n",
       "      <td>Img/img062-052.png</td>\n",
       "      <td>z</td>\n",
       "    </tr>\n",
       "    <tr>\n",
       "      <th>3407</th>\n",
       "      <td>Img/img062-053.png</td>\n",
       "      <td>z</td>\n",
       "    </tr>\n",
       "    <tr>\n",
       "      <th>3408</th>\n",
       "      <td>Img/img062-054.png</td>\n",
       "      <td>z</td>\n",
       "    </tr>\n",
       "    <tr>\n",
       "      <th>3409</th>\n",
       "      <td>Img/img062-055.png</td>\n",
       "      <td>z</td>\n",
       "    </tr>\n",
       "  </tbody>\n",
       "</table>\n",
       "<p>3410 rows × 2 columns</p>\n",
       "</div>"
      ],
      "text/plain": [
       "                   image label\n",
       "0     Img/img001-001.png     0\n",
       "1     Img/img001-002.png     0\n",
       "2     Img/img001-003.png     0\n",
       "3     Img/img001-004.png     0\n",
       "4     Img/img001-005.png     0\n",
       "...                  ...   ...\n",
       "3405  Img/img062-051.png     z\n",
       "3406  Img/img062-052.png     z\n",
       "3407  Img/img062-053.png     z\n",
       "3408  Img/img062-054.png     z\n",
       "3409  Img/img062-055.png     z\n",
       "\n",
       "[3410 rows x 2 columns]"
      ]
     },
     "execution_count": 122,
     "metadata": {},
     "output_type": "execute_result"
    }
   ],
   "source": [
    "df"
   ]
  },
  {
   "cell_type": "markdown",
   "id": "18a3a3db-42a7-42d0-bcd4-a9af25eb2d1e",
   "metadata": {},
   "source": [
    "To see the full text of each sample email, you can use the code below and call the **`df`** dataframe again."
   ]
  },
  {
   "cell_type": "code",
   "execution_count": 124,
   "id": "89046d55-5599-4478-8db0-41d336d9798d",
   "metadata": {},
   "outputs": [],
   "source": [
    "#pd.set_option('display.max_colwidth', None)"
   ]
  },
  {
   "cell_type": "markdown",
   "id": "a2f6a8cb-2d8e-4b9c-b872-89237f3e2461",
   "metadata": {},
   "source": [
    "Another useful practice is using the **`info()`** method to get a summary of information regarding the **number of entries (rows)**, **index range**, **column names**, **non-null count**, **data types** and **memory usage** of the **`DataFrame`**."
   ]
  },
  {
   "cell_type": "code",
   "execution_count": 126,
   "id": "7576db8f-f985-490d-9496-8473716872f7",
   "metadata": {},
   "outputs": [
    {
     "name": "stdout",
     "output_type": "stream",
     "text": [
      "<class 'pandas.core.frame.DataFrame'>\n",
      "RangeIndex: 3410 entries, 0 to 3409\n",
      "Data columns (total 2 columns):\n",
      " #   Column  Non-Null Count  Dtype \n",
      "---  ------  --------------  ----- \n",
      " 0   image   3410 non-null   object\n",
      " 1   label   3410 non-null   object\n",
      "dtypes: object(2)\n",
      "memory usage: 53.4+ KB\n"
     ]
    }
   ],
   "source": [
    "df.info()"
   ]
  },
  {
   "cell_type": "markdown",
   "id": "110f65d9-950b-41dc-b006-1ff5ec83fadb",
   "metadata": {},
   "source": [
    "We have successfully **initialized** our dataset for the project. Before preprocessing the dataset however, we will see how to **display single** and **multiple** images with some useful **Python modules**, as image visualization and manipluation is an important part of these kinds of classification problems."
   ]
  },
  {
   "cell_type": "markdown",
   "id": "01090b5b-7b65-445f-904f-1a34982954ee",
   "metadata": {},
   "source": [
    "## Loading a Sample Image"
   ]
  },
  {
   "cell_type": "code",
   "execution_count": 129,
   "id": "3c4bb3c9-6064-4ce4-9200-876140afbd69",
   "metadata": {},
   "outputs": [],
   "source": [
    "import os # Commonly used for file and directory manipulation\n",
    "import cv2 # Module from OpenCV (Open Source Computer Vision Library), provides tools to perform a variety of image processing tasks\n",
    "from skimage import io # io module in skimage (also known as scikit-image) provides a range of input/output operations"
   ]
  },
  {
   "cell_type": "markdown",
   "id": "42527b3c-0226-4175-8215-caf3a14e8fa1",
   "metadata": {},
   "source": [
    "The code down below is a simple way of displaying an image from its file path. \n",
    "\n",
    "The **`imread()`** method from **cv2** reads an image from the provided **file path** and loads it into a variable (**`imgg`**) as a multi-dimensional **NumPy** `array`. \n",
    "\n",
    "**`imshow()`** takes the image path as a **parameter** and displays it.\n",
    "\n",
    "**`axis('off')`** removes the **axes** from the plot, which are also displayed by default.\n",
    "\n",
    "**`show()`** is a **Matplotlib** function that **renders** the plot or image in a window or inline without showing the axis limits or any numbers."
   ]
  },
  {
   "cell_type": "code",
   "execution_count": 131,
   "id": "c03fcdda-e7b0-42db-8c89-00003f61071b",
   "metadata": {},
   "outputs": [
    {
     "data": {
      "image/png": "[encoded data removed]",
      "text/plain": [
       "<Figure size 640x480 with 1 Axes>"
      ]
     },
     "metadata": {},
     "output_type": "display_data"
    }
   ],
   "source": [
    "imgg = cv2.imread('/Users/alperenkaradag/Desktop/Internship1/Project3/Img/img001-001.png')\n",
    "plt.imshow(imgg)\n",
    "plt.axis('off')\n",
    "plt.show()"
   ]
  },
  {
   "cell_type": "markdown",
   "id": "cab5c707-9970-4340-a3ac-9cf9c32f65ef",
   "metadata": {},
   "source": [
    "## Loading Multiple Sample Images"
   ]
  },
  {
   "cell_type": "markdown",
   "id": "0113d96c-c99f-4460-ace1-b6270eee9cf8",
   "metadata": {},
   "source": [
    "Putting multiple images from a **common directory** at display takes a few more steps to pull off. As an example, we will display the first **20** images from the **Img** directory in **4** rows."
   ]
  },
  {
   "cell_type": "code",
   "execution_count": 135,
   "id": "b4cf103f-9f92-4f9e-9976-b7813a614579",
   "metadata": {},
   "outputs": [],
   "source": [
    "image_dir = '/Users/alperenkaradag/Desktop/Internship1/Project3/Img'  # Specify the directory containing images\n",
    "# Combine image name with directory path to get full path\n",
    "image_paths = [os.path.join(image_dir, img) for img in os.listdir(image_dir) if img.startswith('img001') and img.endswith(('.png'))] \n",
    "image_paths.sort() # Sort the image files alphabetically"
   ]
  },
  {
   "cell_type": "markdown",
   "id": "9daa4082-19a7-4eec-9a21-1f186d710389",
   "metadata": {},
   "source": [
    "The **`image_dir`** variable is assigned the path to the **directory** containing the images.\n",
    "\n",
    "The **list comprehension** initialized to **`image_paths`** generates a list of full file paths for images in the directory that start with **`img001`**, images representing the character **'0'**, and end with **`.png`**, the file type of the images.\n",
    "\n",
    "**`sort()`** reorganizes the list of image paths in **alphabetical order** when processing or displaying images."
   ]
  },
  {
   "cell_type": "code",
   "execution_count": 136,
   "id": "5ae0c8ae-a2cd-4788-b8f9-0f0932d04916",
   "metadata": {},
   "outputs": [],
   "source": [
    "images_per_row = 5  # Number of images per row\n",
    "total_images = 20 #  Figure size\n",
    "rows = (total_images // images_per_row) + (total_images % images_per_row > 0)  # Calculate number of rows"
   ]
  },
  {
   "cell_type": "markdown",
   "id": "384282c6-9abd-485b-a7b2-e8c0a259b87b",
   "metadata": {},
   "source": [
    "The **`figure()`** method ensures that when the images are plotted, they will fit into a figure with the **specified dimensions**, providing a clean and organized **grid layout**."
   ]
  },
  {
   "cell_type": "code",
   "execution_count": 137,
   "id": "12689888-b344-40c4-afbf-d74502dd0414",
   "metadata": {},
   "outputs": [
    {
     "data": {
      "text/plain": [
       "<Figure size 2000x400 with 0 Axes>"
      ]
     },
     "execution_count": 137,
     "metadata": {},
     "output_type": "execute_result"
    },
    {
     "data": {
      "text/plain": [
       "<Figure size 2000x400 with 0 Axes>"
      ]
     },
     "metadata": {},
     "output_type": "display_data"
    }
   ],
   "source": [
    "plt.figure(figsize=(20, 4)) # Display the first 20 images (or less if fewer images are available)"
   ]
  },
  {
   "cell_type": "markdown",
   "id": "2b3d0e82-1384-41ab-b102-ac16e1f93774",
   "metadata": {},
   "source": [
    "The final step involves a **for** loop that iterates over the first **20** images in the **`image_paths`** list.\n",
    "\n",
    "The **`enumerate`** function provides both the index and the image path. The **`imread()`** method from **skimage** reads the image from the given path. The image is loaded into the **`image`** variable.\n",
    "\n",
    "Creating a subplot is done with the **`subplot()`** method. The layout is determined by the number of rows (**`rows`**) and the number of images per row (**`images_per_row`**). **`index + 1`** determines the position of the subplot within the grid.\n",
    "\n",
    "The **`cmap=plt.cm.gray`** parameter of **`imshow()`** optional and converts the image to grayscale if needed.\n",
    "\n",
    "**`title()`** sets a title above each image. Here, the title is simply the index of the image (**`index + 1`**) to show the order, and the text size is set to **15**.\n",
    "\n",
    "**`axis('off')`** makes the display cleaner and more focused on the images.\n",
    "\n",
    "**`tight_layout()`** adjusts the spacing between subplots to minimize overlap and ensure a clean layout.\n"
   ]
  },
  {
   "cell_type": "code",
   "execution_count": 271,
   "id": "c00de790-347e-476c-b8bc-887d68513daa",
   "metadata": {},
   "outputs": [
    {
     "data": {
      "image/png": "[encoded data removed]",
      "text/plain": [
       "<Figure size 640x480 with 20 Axes>"
      ]
     },
     "metadata": {},
     "output_type": "display_data"
    }
   ],
   "source": [
    "for index, image_path in enumerate(image_paths[:20]):  # Limit to the first 20 images\n",
    "    \n",
    "    image = io.imread(image_path) # Read the image\n",
    "    plt.subplot(rows, images_per_row, index + 1) # Create a subplot for each image\n",
    "    plt.imshow(image, cmap=plt.cm.gray)  # Convert to grayscale if needed\n",
    "    plt.title(index+1, size=15)  # Set the title (here we use the index)\n",
    "    plt.axis('off') # Turn off axis to make it cleaner\n",
    "    \n",
    "plt.tight_layout()"
   ]
  },
  {
   "cell_type": "markdown",
   "id": "a485f967-90aa-4999-8a87-c2348f707ad5",
   "metadata": {},
   "source": [
    "## Preprocessing the Data"
   ]
  },
  {
   "cell_type": "markdown",
   "id": "ee0c3ff8-720c-49e3-b9d1-0c8446a0099a",
   "metadata": {},
   "source": [
    "We can now move on to a critical step of image classification: **data preprocessing**. It involves transforming **raw data** into a **suitable format** that can be effectively used by machine learning algorithms. Our neural network can work properly **only** if the data it's trained on satisfies the proper conditions in qualities like **image size**, **grayscale**, pixel value **normalization** and data **augmentation**."
   ]
  },
  {
   "cell_type": "code",
   "execution_count": 141,
   "id": "b2b3ed54-bb3c-4746-a884-a98ca91ebf2f",
   "metadata": {},
   "outputs": [],
   "source": [
    "base_dir = '/Users/alperenkaradag/Desktop/Internship1/Project3/'  # Base directory where your images are stored"
   ]
  },
  {
   "cell_type": "markdown",
   "id": "1bb3911a-7f30-4b49-b6dd-6e62abfa4ec2",
   "metadata": {},
   "source": [
    "For preprocessing, the DataFrame **`df`** is modified to include the full file paths for images and remove the old column containing relative file paths.\n",
    "\n",
    "**`base_dir`** defines the base directory where the images are stored.\n",
    "\n",
    "The **`apply()`** method is used to apply a function to each element in the **`image`** column. The **lambda** function takes each relative path **`x`** and concatenates it with **`base_dir`** to create the full path for the image in a newly created  **`full_image`** column.\n",
    "\n",
    "The old **`image`** column is **dropped** and the **new column** is put in its place."
   ]
  },
  {
   "cell_type": "code",
   "execution_count": 142,
   "id": "b5e5e703-fd0a-4500-97b1-f8ebd188806d",
   "metadata": {},
   "outputs": [],
   "source": [
    "df['full_image'] = df['image'].apply(lambda x: os.path.join(base_dir, x)) # Concatenate base directory with relative file paths\n",
    "df.drop('image', axis=1, inplace=True)\n",
    "df = df[['full_image', 'label']]"
   ]
  },
  {
   "cell_type": "markdown",
   "id": "c09c7a9d-8d72-4fa0-b792-6942437d8413",
   "metadata": {},
   "source": [
    "We will define a **function** to **load**, **preprocess**, and **normalize an image** from a specified file path. It will come in handy for the **DEMO** program as well so turning this set of operations into a modular tool like this will prove quite useful.\n",
    "\n",
    "\n",
    "**`imread()`** reads the image file from the given **`image_path`** as a NumPy array.\n",
    "\n",
    "The first **if** statement checks if the image has an alpha channel (**RGBA**) by) by examining the last dimension of the array. If present, it discards the alpha channel and keeps only the RGB channels.\n",
    "- **...** (**ellipsis**) represents all preceding dimensions. In this case, **`image[..., :3]`** means \"select all dimensions except for the last one, and in the last dimension, select only the first three channel\".\n",
    "\n",
    "The second **if** statement converts the image to grayscale if it is in **RGB** format (3 channels). This is done by **averaging** the RGB values, which reduces the image to a single channel.\n",
    "  \n",
    "**`expand_dims()`** adds a new dimension to the image array to represent the **single channel (grayscale)**. This ensures the image has the shape expected by many neural network architectures, which **require** a channel dimension.\n",
    "  \n",
    "TensorFlow’s **`resize()`** method is used to resize the image to the specified **`target_size`**. This ensures that all images have the same dimensions, which is necessary for feeding them into a neural network.\n",
    "\n",
    "The function normalizes pixel values to the range **[0, 1]** by dividing by **255.0**. Normalization helps improve the training stability and performance of neural networks.\n",
    "   \n",
    "At last, the function converts the **TensorFlow** tensor back to a **NumPy** array using **`numpy()`** and returns it."
   ]
  },
  {
   "cell_type": "code",
   "execution_count": 143,
   "id": "b020dc12-a3ba-48da-a083-d3c645b59065",
   "metadata": {},
   "outputs": [],
   "source": [
    "def load_and_preprocess_image(image_path, target_size=(32, 32)):\n",
    "    \n",
    "    image = io.imread(image_path) # Load the image from file path\n",
    "    if image.shape[-1] == 4: # If the image has an alpha channel (RGBA), convert it to RGB by discarding the alpha channel\n",
    "        image = image[..., :3]\n",
    "    if len(image.shape) == 3 and image.shape[-1] == 3:\n",
    "        image = np.mean(image, axis=-1)  # Convert RGB to grayscale by averaging channels\n",
    "\n",
    "    image = np.expand_dims(image, axis=-1) # Expand dimensions to add the channel dimension\n",
    "    image_resized = tf.image.resize(image, target_size) # Resize image to target size\n",
    "    image_resized = image_resized / 255.0 # Normalize image\n",
    "    \n",
    "    return image_resized.numpy()"
   ]
  },
  {
   "cell_type": "markdown",
   "id": "9294fc35-1e63-41c2-afe3-4619efd9f947",
   "metadata": {},
   "source": [
    "The next part of preprocessing will involve setting up the **train** and **test** variables."
   ]
  },
  {
   "cell_type": "markdown",
   "id": "4b0eb612-aa23-452e-b648-73911b26e54e",
   "metadata": {},
   "source": [
    "## Initializing the Train and Test Variables"
   ]
  },
  {
   "cell_type": "code",
   "execution_count": 146,
   "id": "e7252234-3c43-4dcc-a4ca-b15024740dcc",
   "metadata": {},
   "outputs": [],
   "source": [
    "from sklearn.model_selection import train_test_split"
   ]
  },
  {
   "cell_type": "markdown",
   "id": "cd05191c-a65a-4511-93d5-0e4cd18515a4",
   "metadata": {},
   "source": [
    "This module is used to **split** the dataset into a **training set**, which is used to train your machine learning model, and a **test set**, which is used to evaluate the model’s performance."
   ]
  },
  {
   "cell_type": "code",
   "execution_count": 148,
   "id": "54fbd718-5f1e-4ac5-bcdf-b8719ff7b88f",
   "metadata": {},
   "outputs": [],
   "source": [
    "# Load and preprocess all images using full paths\n",
    "X = np.array([load_and_preprocess_image(fp) for fp in df['full_image']])\n",
    "y = df['label']"
   ]
  },
  {
   "cell_type": "markdown",
   "id": "1053f02f-1914-4c38-b71c-29c198df12f7",
   "metadata": {},
   "source": [
    "**`X`** holds the preprocessed image data, with each image resized, normalized, and formatted for input into the neural network.\n",
    "\n",
    "**`y`** contains the labels for each image, which will be used for supervised learning to train the model. "
   ]
  },
  {
   "cell_type": "code",
   "execution_count": 150,
   "id": "ca547d30-6c92-49bf-8983-e7d714b6d469",
   "metadata": {},
   "outputs": [],
   "source": [
    "# Split data into training and testing sets\n",
    "x_train, x_test, y_train, y_test = train_test_split(X, y, test_size=0.2, random_state=42)"
   ]
  },
  {
   "cell_type": "markdown",
   "id": "fd6f9c71-4a32-4a12-9a62-b73d9b10fe4d",
   "metadata": {},
   "source": [
    "The **_train_test_split_** method consists of these parameters:\n",
    "- **`X`**: The feature matrix (input data).\n",
    "- **`y`**: The target vector (output labels).\n",
    "- **`test_size`**: Specifies the proportion of the dataset to include in the test split (e.g., 0.2 means 20% for testing and 80% for training).\n",
    "- **`random_state`**: Controls the shuffling applied to the data before the split. Setting this ensures reproducibility of the split.\n",
    "- **`X_train`**, **`X_test`**, **`y_train`, `y_test`**: The training and testing portions of the target vector."
   ]
  },
  {
   "cell_type": "code",
   "execution_count": 152,
   "id": "026e680d-5b75-4529-9065-813b907008da",
   "metadata": {},
   "outputs": [
    {
     "name": "stdout",
     "output_type": "stream",
     "text": [
      "x_train shape: (2728, 32, 32, 1)\n",
      "x_test shape: (682, 32, 32, 1)\n",
      "y_train shape: (2728,)\n",
      "y_test shape: (682,)\n"
     ]
    }
   ],
   "source": [
    "# Print the shapes of the datasets to confirm\n",
    "print(f\"x_train shape: {x_train.shape}\")\n",
    "print(f\"x_test shape: {x_test.shape}\")\n",
    "print(f\"y_train shape: {y_train.shape}\")\n",
    "print(f\"y_test shape: {y_test.shape}\")"
   ]
  },
  {
   "cell_type": "markdown",
   "id": "69eadc9a-ab68-4c71-a1f5-32c52900664d",
   "metadata": {},
   "source": [
    "The **`pd.factorize()`** method returns a tuple with two elements:\n",
    "- The **first** element is an array of integer labels.\n",
    "- The **second** element is an array of unique values in the order they were encountered in **`y_train`**.\n",
    "\n",
    "By printing the first and second element, we can observe that the train variables have been **randomly split**."
   ]
  },
  {
   "cell_type": "code",
   "execution_count": 154,
   "id": "0ded67a0-01e0-4568-ba58-cc62bc0db058",
   "metadata": {},
   "outputs": [
    {
     "name": "stdout",
     "output_type": "stream",
     "text": [
      "[ 0  1  2 ...  6 46  8]\n",
      "Index(['l', 'a', 'b', 'd', 'i', 'h', 'N', 'c', 'v', '4', 'u', 'U', 'P', 'm',\n",
      "       'W', 'x', 'M', 'C', 'Q', 'f', 'S', 'w', 'p', '1', 'R', 'V', 'z', '5',\n",
      "       'D', 'J', 'j', 'y', 'K', 'A', 'Z', '3', '8', '9', 'X', 'O', 'Y', 'g',\n",
      "       's', '7', 'T', 't', 'F', 'o', '0', '2', 'I', 'H', 'E', 'r', 'B', '6',\n",
      "       'q', 'L', 'e', 'G', 'n', 'k'],\n",
      "      dtype='object')\n"
     ]
    }
   ],
   "source": [
    "factlabel=pd.factorize(y_train)\n",
    "\n",
    "print(factlabel[0])\n",
    "print(factlabel[1])"
   ]
  },
  {
   "cell_type": "markdown",
   "id": "2ad45307-c392-4273-98e3-74b0fc8e83d8",
   "metadata": {},
   "source": [
    "## Normalizing the Dataset"
   ]
  },
  {
   "cell_type": "markdown",
   "id": "e220f4f5-e942-4e04-a96f-b4fa80d96ac9",
   "metadata": {},
   "source": [
    "Even though we've done **rudimentary normalization** in the preprocessing function, this won't be enough in many cases as you'll get training data in a form that is **different** from what the model is expecting. You might get data in the form of **32 bit floats** (**float32**) for example, instead of **8 bit unsigned integers** (**uint8**), which is what the model actually anticipates as input. Making this conversion is not difficult though, as using the **`normalize()`** method from cv2 module quickly gets the job done."
   ]
  },
  {
   "cell_type": "code",
   "execution_count": 156,
   "id": "d25c03be-4c99-4d5d-803c-020a03639f78",
   "metadata": {},
   "outputs": [
    {
     "name": "stdout",
     "output_type": "stream",
     "text": [
      "Normalized x_train shape: (2728, 32, 32, 1)\n",
      "Normalized x_test shape: (682, 32, 32, 1)\n"
     ]
    }
   ],
   "source": [
    "x_train = cv2.normalize(x_train, None, 1, 0, cv2.NORM_MINMAX, cv2.CV_8U)\n",
    "x_test = cv2.normalize(x_test, None, 1, 0, cv2.NORM_MINMAX, cv2.CV_8U)\n",
    "\n",
    "print(f\"Normalized x_train shape: {x_train.shape}\")\n",
    "print(f\"Normalized x_test shape: {x_test.shape}\")"
   ]
  },
  {
   "cell_type": "code",
   "execution_count": 157,
   "id": "79342e8a-c864-462e-be57-540296617a92",
   "metadata": {},
   "outputs": [
    {
     "data": {
      "text/plain": [
       "array([[[[1],\n",
       "         [1],\n",
       "         [1],\n",
       "         ...,\n",
       "         [1],\n",
       "         [1],\n",
       "         [1]],\n",
       "\n",
       "        [[1],\n",
       "         [1],\n",
       "         [1],\n",
       "         ...,\n",
       "         [1],\n",
       "         [1],\n",
       "         [1]],\n",
       "\n",
       "        [[1],\n",
       "         [1],\n",
       "         [1],\n",
       "         ...,\n",
       "         [1],\n",
       "         [1],\n",
       "         [1]],\n",
       "\n",
       "        ...,\n",
       "\n",
       "        [[1],\n",
       "         [1],\n",
       "         [1],\n",
       "         ...,\n",
       "         [1],\n",
       "         [1],\n",
       "         [1]],\n",
       "\n",
       "        [[1],\n",
       "         [1],\n",
       "         [1],\n",
       "         ...,\n",
       "         [1],\n",
       "         [1],\n",
       "         [1]],\n",
       "\n",
       "        [[1],\n",
       "         [1],\n",
       "         [1],\n",
       "         ...,\n",
       "         [1],\n",
       "         [1],\n",
       "         [1]]],\n",
       "\n",
       "\n",
       "       [[[1],\n",
       "         [1],\n",
       "         [1],\n",
       "         ...,\n",
       "         [1],\n",
       "         [1],\n",
       "         [1]],\n",
       "\n",
       "        [[1],\n",
       "         [1],\n",
       "         [1],\n",
       "         ...,\n",
       "         [1],\n",
       "         [1],\n",
       "         [1]],\n",
       "\n",
       "        [[1],\n",
       "         [1],\n",
       "         [1],\n",
       "         ...,\n",
       "         [1],\n",
       "         [1],\n",
       "         [1]],\n",
       "\n",
       "        ...,\n",
       "\n",
       "        [[1],\n",
       "         [1],\n",
       "         [1],\n",
       "         ...,\n",
       "         [1],\n",
       "         [1],\n",
       "         [1]],\n",
       "\n",
       "        [[1],\n",
       "         [1],\n",
       "         [1],\n",
       "         ...,\n",
       "         [1],\n",
       "         [1],\n",
       "         [1]],\n",
       "\n",
       "        [[1],\n",
       "         [1],\n",
       "         [1],\n",
       "         ...,\n",
       "         [1],\n",
       "         [1],\n",
       "         [1]]],\n",
       "\n",
       "\n",
       "       [[[1],\n",
       "         [1],\n",
       "         [1],\n",
       "         ...,\n",
       "         [1],\n",
       "         [1],\n",
       "         [1]],\n",
       "\n",
       "        [[1],\n",
       "         [1],\n",
       "         [1],\n",
       "         ...,\n",
       "         [1],\n",
       "         [1],\n",
       "         [1]],\n",
       "\n",
       "        [[1],\n",
       "         [1],\n",
       "         [1],\n",
       "         ...,\n",
       "         [1],\n",
       "         [1],\n",
       "         [1]],\n",
       "\n",
       "        ...,\n",
       "\n",
       "        [[1],\n",
       "         [1],\n",
       "         [1],\n",
       "         ...,\n",
       "         [1],\n",
       "         [1],\n",
       "         [1]],\n",
       "\n",
       "        [[1],\n",
       "         [1],\n",
       "         [1],\n",
       "         ...,\n",
       "         [1],\n",
       "         [1],\n",
       "         [1]],\n",
       "\n",
       "        [[1],\n",
       "         [1],\n",
       "         [1],\n",
       "         ...,\n",
       "         [1],\n",
       "         [1],\n",
       "         [1]]],\n",
       "\n",
       "\n",
       "       ...,\n",
       "\n",
       "\n",
       "       [[[1],\n",
       "         [1],\n",
       "         [1],\n",
       "         ...,\n",
       "         [1],\n",
       "         [1],\n",
       "         [1]],\n",
       "\n",
       "        [[1],\n",
       "         [1],\n",
       "         [1],\n",
       "         ...,\n",
       "         [1],\n",
       "         [1],\n",
       "         [1]],\n",
       "\n",
       "        [[1],\n",
       "         [1],\n",
       "         [1],\n",
       "         ...,\n",
       "         [1],\n",
       "         [1],\n",
       "         [1]],\n",
       "\n",
       "        ...,\n",
       "\n",
       "        [[1],\n",
       "         [1],\n",
       "         [1],\n",
       "         ...,\n",
       "         [1],\n",
       "         [1],\n",
       "         [1]],\n",
       "\n",
       "        [[1],\n",
       "         [1],\n",
       "         [1],\n",
       "         ...,\n",
       "         [1],\n",
       "         [1],\n",
       "         [1]],\n",
       "\n",
       "        [[1],\n",
       "         [1],\n",
       "         [1],\n",
       "         ...,\n",
       "         [1],\n",
       "         [1],\n",
       "         [1]]],\n",
       "\n",
       "\n",
       "       [[[1],\n",
       "         [1],\n",
       "         [1],\n",
       "         ...,\n",
       "         [1],\n",
       "         [1],\n",
       "         [1]],\n",
       "\n",
       "        [[1],\n",
       "         [1],\n",
       "         [1],\n",
       "         ...,\n",
       "         [1],\n",
       "         [1],\n",
       "         [1]],\n",
       "\n",
       "        [[1],\n",
       "         [1],\n",
       "         [1],\n",
       "         ...,\n",
       "         [1],\n",
       "         [1],\n",
       "         [1]],\n",
       "\n",
       "        ...,\n",
       "\n",
       "        [[1],\n",
       "         [1],\n",
       "         [1],\n",
       "         ...,\n",
       "         [1],\n",
       "         [1],\n",
       "         [1]],\n",
       "\n",
       "        [[1],\n",
       "         [1],\n",
       "         [1],\n",
       "         ...,\n",
       "         [1],\n",
       "         [1],\n",
       "         [1]],\n",
       "\n",
       "        [[1],\n",
       "         [1],\n",
       "         [1],\n",
       "         ...,\n",
       "         [1],\n",
       "         [1],\n",
       "         [1]]],\n",
       "\n",
       "\n",
       "       [[[1],\n",
       "         [1],\n",
       "         [1],\n",
       "         ...,\n",
       "         [1],\n",
       "         [1],\n",
       "         [1]],\n",
       "\n",
       "        [[1],\n",
       "         [1],\n",
       "         [1],\n",
       "         ...,\n",
       "         [1],\n",
       "         [1],\n",
       "         [1]],\n",
       "\n",
       "        [[1],\n",
       "         [1],\n",
       "         [1],\n",
       "         ...,\n",
       "         [1],\n",
       "         [1],\n",
       "         [1]],\n",
       "\n",
       "        ...,\n",
       "\n",
       "        [[1],\n",
       "         [1],\n",
       "         [1],\n",
       "         ...,\n",
       "         [1],\n",
       "         [1],\n",
       "         [1]],\n",
       "\n",
       "        [[1],\n",
       "         [1],\n",
       "         [1],\n",
       "         ...,\n",
       "         [1],\n",
       "         [1],\n",
       "         [1]],\n",
       "\n",
       "        [[1],\n",
       "         [1],\n",
       "         [1],\n",
       "         ...,\n",
       "         [1],\n",
       "         [1],\n",
       "         [1]]]], dtype=uint8)"
      ]
     },
     "execution_count": 157,
     "metadata": {},
     "output_type": "execute_result"
    }
   ],
   "source": [
    "x_train"
   ]
  },
  {
   "cell_type": "markdown",
   "id": "86a759ce-24e6-4aa5-92ea-f9ea3e7e220a",
   "metadata": {},
   "source": [
    "As we can see, the **`X`** variables are in the **desired** data type."
   ]
  },
  {
   "cell_type": "code",
   "execution_count": 158,
   "id": "42c1b73b-1151-4123-9692-8449f03b157e",
   "metadata": {},
   "outputs": [
    {
     "data": {
      "text/plain": [
       "2585    l\n",
       "2030    a\n",
       "2080    b\n",
       "2172    d\n",
       "2460    i\n",
       "       ..\n",
       "1095    J\n",
       "1130    K\n",
       "1294    N\n",
       "860     F\n",
       "3174    v\n",
       "Name: label, Length: 2728, dtype: object"
      ]
     },
     "execution_count": 158,
     "metadata": {},
     "output_type": "execute_result"
    }
   ],
   "source": [
    "y_train"
   ]
  },
  {
   "cell_type": "markdown",
   "id": "85155d0f-b567-4563-bcc5-30aec3ed607e",
   "metadata": {},
   "source": [
    "We can check one of the **`y`** variables for good measure as well."
   ]
  },
  {
   "cell_type": "markdown",
   "id": "0f0fd3d9-86c9-4003-958b-f37d4605c469",
   "metadata": {},
   "source": [
    "## Label Encoding"
   ]
  },
  {
   "cell_type": "markdown",
   "id": "7846f0c0-56f4-4fbe-bbd5-f17db0aab14b",
   "metadata": {},
   "source": [
    "**Label Encoding** is a technique used to convert categorical labels into numerical form. Each unique category is assigned an integer value. This is often used in machine learning to convert **categorical variables** into into a **numerical format** for use in machine learning algorithms."
   ]
  },
  {
   "cell_type": "code",
   "execution_count": 161,
   "id": "ebb8eb3f-974b-417e-8330-7a98c2eff277",
   "metadata": {},
   "outputs": [],
   "source": [
    "from sklearn.preprocessing import LabelEncoder\n",
    "label_encoder = LabelEncoder()"
   ]
  },
  {
   "cell_type": "code",
   "execution_count": 162,
   "id": "1487b3fc-8edf-4add-9ed7-81baa487cf6b",
   "metadata": {},
   "outputs": [
    {
     "name": "stdout",
     "output_type": "stream",
     "text": [
      "[ 0  0  0 ... 61 61 61]\n"
     ]
    }
   ],
   "source": [
    "sd = label_encoder.fit_transform(df['label'])\n",
    "\n",
    "print(sd)\n",
    "\n",
    "y_train = label_encoder.transform(y_train)\n",
    "y_test = label_encoder.transform(y_test)"
   ]
  },
  {
   "cell_type": "markdown",
   "id": "3fe3cda6-2589-4329-a0b4-2e8fc67a04f5",
   "metadata": {},
   "source": [
    "In the **`fit_transform()`** function,\n",
    " - **`fit`** learns the mapping of categorical labels to numerical values.\n",
    " - **`transform`** then applies this mapping to convert the categorical labels in **`label`** into numerical values.\n",
    " - **`sd`** will be an array of numerical labels corresponding to the original labels in the **`label`** column.\n",
    "\n",
    "The labels in the training and testing **`y`** variables are then converted into numerical format based on the learned mapping."
   ]
  },
  {
   "cell_type": "code",
   "execution_count": 163,
   "id": "a7e30428-fc9f-4b61-9c6f-9c32ad4498a8",
   "metadata": {},
   "outputs": [
    {
     "name": "stdout",
     "output_type": "stream",
     "text": [
      "0: 0, 1: 1, 2: 2, 3: 3, 4: 4, 5: 5, 6: 6, 7: 7, 8: 8, 9: 9, A: 10, B: 11, C: 12, D: 13, E: 14, F: 15, G: 16, H: 17, I: 18, J: 19, K: 20, L: 21, M: 22, N: 23, O: 24, P: 25, Q: 26, R: 27, S: 28, T: 29, U: 30, V: 31, W: 32, X: 33, Y: 34, Z: 35, a: 36, b: 37, c: 38, d: 39, e: 40, f: 41, g: 42, h: 43, i: 44, j: 45, k: 46, l: 47, m: 48, n: 49, o: 50, p: 51, q: 52, r: 53, s: 54, t: 55, u: 56, v: 57, w: 58, x: 59, y: 60, z: 61\n"
     ]
    }
   ],
   "source": [
    "# Get the mapping between original labels and encoded values\n",
    "mapping = {original: encoded for encoded, original in enumerate(label_encoder.classes_)}\n",
    "\n",
    "# Print the formatted list\n",
    "formatted_list = ', '.join([f\"{label}: {encoded}\" for label, encoded in mapping.items()])\n",
    "print(formatted_list)"
   ]
  },
  {
   "cell_type": "markdown",
   "id": "82be724d-923e-4775-a9f8-9e0bd5f339a9",
   "metadata": {},
   "source": [
    "The **full list** of labels have ensured us that the encoding process has been correctly carried out."
   ]
  },
  {
   "cell_type": "markdown",
   "id": "7b39fa93-d260-498f-a9bf-13104c05ea68",
   "metadata": {},
   "source": [
    "## Setting Up the Neural Network"
   ]
  },
  {
   "cell_type": "markdown",
   "id": "4a25f821-d68a-44d1-81ed-c3cab28956ec",
   "metadata": {},
   "source": [
    "With our training and testing data fully ready, we can finaly construct a **Convolutional Neural Network (CNN)** using **TensorFlow's Keras API**. Here’s a breakdown of fundamental components in a CNN:\n",
    "\n",
    "- **Input Layer**: Accepts grayscale images of size 32x32 with 1 color channel (grayscale).\n",
    "- **Convolutional Layers**: Extract features from images using various filter sizes.\n",
    "- **Batch Normalization**: Stabilizes and speeds up training.\n",
    "- **MaxPooling Layers**: Reduces spatial dimensions to retain important features.\n",
    "- **Flatten Layer**: Converts the 3D feature maps into a 1D vector.\n",
    "- **Dense Layers**: Fully connected layers to make predictions based on extracted features.\n",
    "- **Dropout Layer**: Reduces overfitting by randomly dropping units during training.\n",
    "- **Output Layer**: Produces a probability distribution over the 62 classes.\n",
    "\n",
    "The number of layers in a CNN vary based on the complexity of the task at hand, with the standard qualifications of size being:\n",
    "- **Simple CNNs**: 5-10 layers.\n",
    "- **Moderate CNNs**: 10-20 layers.\n",
    "- **Deep CNNs**: 20-50+ layers.\n",
    "\n",
    "The layer by layer breakdown of this model is as such:\n",
    "\n",
    "**Input Layer**:\n",
    "\n",
    "- Specifies the input shape of the images. Each image is 32x32 pixels \n",
    "\n",
    "**First Convolutional Layer**:\n",
    "\n",
    "   - **`32`**: Number of filters (feature maps).\n",
    "   - **`(3, 3)`**: Size of the convolutional kernel (3x3 pixels).\n",
    "   - **`activation='relu'`**: ReLU activation function to introduce non-linearity.\n",
    "\n",
    "**Batch Normalization**:\n",
    "\n",
    "   - Normalizes the output of the previous layer to stabilize and accelerate training.\n",
    "\n",
    "**First MaxPooling Layer**:\n",
    "\n",
    "   - **`(2, 2)`**: Pooling window size (2x2 pixels). Reduces the spatial dimensions by taking the maximum value in each window.\n",
    "\n",
    "**Second Convolutional Layer**:\n",
    "\n",
    "   - **`64`**: Number of filters.\n",
    "   - **`(3, 3)`**: Kernel size.\n",
    "   - **`activation='relu'`**: ReLU activation.\n",
    "\n",
    "**Batch Normalization**:\n",
    "\n",
    "   - Normalizes the output of the previous layer.\n",
    "\n",
    "**Second MaxPooling Layer**:\n",
    "\n",
    "   - **`(2, 2)`**: Pooling window size.\n",
    "\n",
    "**Third Convolutional Layer**:\n",
    "\n",
    "   - **`128`**: Number of filters.\n",
    "   - **`(3, 3)`**: Kernel size.\n",
    "   - **`activation='relu'`**: ReLU activation.\n",
    "\n",
    "**Batch Normalization**:\n",
    "\n",
    "   - Normalizes the output of the previous layer.\n",
    "\n",
    "**Third MaxPooling Layer**:\n",
    "\n",
    "- **`(2, 2)`**: Pooling window size.\n",
    "\n",
    "**Flatten Layer**:\n",
    "\n",
    "- Flattens the 3D output of the last convolutional layer into a 1D vector to be fed into the fully connected layers.\n",
    "\n",
    "**Fully Connected Layer**:\n",
    "\n",
    "- **`256`**: Number of neurons.\n",
    "- **`activation='relu'`**: ReLU activation function.\n",
    "\n",
    "**Dropout Layer**:\n",
    "\n",
    "- **`0.2`**: Dropout rate (20%). Randomly sets 20% of the input units to 0 during training to prevent overfitting.\n",
    "\n",
    "**Output Layer**:\n",
    "\n",
    "- **`62`**: Number of output neurons (corresponding to the number of classes).\n",
    "- **`activation='softmax'`**: Softmax activation function to produce probability distributions over the 62 classes.\n",
    "\n"
   ]
  },
  {
   "cell_type": "code",
   "execution_count": 167,
   "id": "377533b3-8395-45f7-a6a1-39194653d430",
   "metadata": {},
   "outputs": [],
   "source": [
    "CNN = tf.keras.models.Sequential([tf.keras.layers.Input(shape=(32, 32, 1)),\n",
    "    tf.keras.layers.Conv2D(32, (3, 3), activation='relu'),\n",
    "    tf.keras.layers.BatchNormalization(),\n",
    "    tf.keras.layers.MaxPooling2D((2, 2)),\n",
    "    tf.keras.layers.Conv2D(64, (3, 3), activation='relu'),\n",
    "    tf.keras.layers.BatchNormalization(),\n",
    "    tf.keras.layers.MaxPooling2D((2, 2)),\n",
    "    tf.keras.layers.Conv2D(128, (3, 3), activation='relu'),\n",
    "    tf.keras.layers.BatchNormalization(),\n",
    "    tf.keras.layers.MaxPooling2D((2, 2)),\n",
    "    tf.keras.layers.Flatten(),\n",
    "    tf.keras.layers.Dense(256, activation='relu'),\n",
    "    tf.keras.layers.Dropout(0.2),\n",
    "    tf.keras.layers.Dense(62, activation='softmax')\n",
    "           ])"
   ]
  },
  {
   "cell_type": "code",
   "execution_count": 168,
   "id": "dc921f16-236f-497c-85f2-5490ea17d861",
   "metadata": {},
   "outputs": [
    {
     "name": "stdout",
     "output_type": "stream",
     "text": [
      "(None, 32, 32, 1)\n"
     ]
    }
   ],
   "source": [
    "print(CNN.input_shape)"
   ]
  },
  {
   "cell_type": "markdown",
   "id": "7253ba20-34ac-457f-9ce6-174196913e8c",
   "metadata": {},
   "source": [
    "The input shape indicates the **type** of data our model will be expecting, which in this case are **1 dimension (grayscale) 32x32 images**."
   ]
  },
  {
   "cell_type": "code",
   "execution_count": 171,
   "id": "851b0ff5-0b13-4fbd-b365-fc6954eb68ec",
   "metadata": {},
   "outputs": [
    {
     "data": {
      "text/html": [
       "<pre style=\"white-space:pre;overflow-x:auto;line-height:normal;font-family:Menlo,'DejaVu Sans Mono',consolas,'Courier New',monospace\"><span style=\"font-weight: bold\">Model: \"sequential_1\"</span>\n",
       "</pre>\n"
      ],
      "text/plain": [
       "\u001b[1mModel: \"sequential_1\"\u001b[0m\n"
      ]
     },
     "metadata": {},
     "output_type": "display_data"
    },
    {
     "data": {
      "text/html": [
       "<pre style=\"white-space:pre;overflow-x:auto;line-height:normal;font-family:Menlo,'DejaVu Sans Mono',consolas,'Courier New',monospace\">┏━━━━━━━━━━━━━━━━━━━━━━━━━━━━━━━━━┳━━━━━━━━━━━━━━━━━━━━━━━━┳━━━━━━━━━━━━━━━┓\n",
       "┃<span style=\"font-weight: bold\"> Layer (type)                    </span>┃<span style=\"font-weight: bold\"> Output Shape           </span>┃<span style=\"font-weight: bold\">       Param # </span>┃\n",
       "┡━━━━━━━━━━━━━━━━━━━━━━━━━━━━━━━━━╇━━━━━━━━━━━━━━━━━━━━━━━━╇━━━━━━━━━━━━━━━┩\n",
       "│ conv2d_3 (<span style=\"color: #0087ff; text-decoration-color: #0087ff\">Conv2D</span>)               │ (<span style=\"color: #00d7ff; text-decoration-color: #00d7ff\">None</span>, <span style=\"color: #00af00; text-decoration-color: #00af00\">30</span>, <span style=\"color: #00af00; text-decoration-color: #00af00\">30</span>, <span style=\"color: #00af00; text-decoration-color: #00af00\">32</span>)     │           <span style=\"color: #00af00; text-decoration-color: #00af00\">320</span> │\n",
       "├─────────────────────────────────┼────────────────────────┼───────────────┤\n",
       "│ batch_normalization_3           │ (<span style=\"color: #00d7ff; text-decoration-color: #00d7ff\">None</span>, <span style=\"color: #00af00; text-decoration-color: #00af00\">30</span>, <span style=\"color: #00af00; text-decoration-color: #00af00\">30</span>, <span style=\"color: #00af00; text-decoration-color: #00af00\">32</span>)     │           <span style=\"color: #00af00; text-decoration-color: #00af00\">128</span> │\n",
       "│ (<span style=\"color: #0087ff; text-decoration-color: #0087ff\">BatchNormalization</span>)            │                        │               │\n",
       "├─────────────────────────────────┼────────────────────────┼───────────────┤\n",
       "│ max_pooling2d_3 (<span style=\"color: #0087ff; text-decoration-color: #0087ff\">MaxPooling2D</span>)  │ (<span style=\"color: #00d7ff; text-decoration-color: #00d7ff\">None</span>, <span style=\"color: #00af00; text-decoration-color: #00af00\">15</span>, <span style=\"color: #00af00; text-decoration-color: #00af00\">15</span>, <span style=\"color: #00af00; text-decoration-color: #00af00\">32</span>)     │             <span style=\"color: #00af00; text-decoration-color: #00af00\">0</span> │\n",
       "├─────────────────────────────────┼────────────────────────┼───────────────┤\n",
       "│ conv2d_4 (<span style=\"color: #0087ff; text-decoration-color: #0087ff\">Conv2D</span>)               │ (<span style=\"color: #00d7ff; text-decoration-color: #00d7ff\">None</span>, <span style=\"color: #00af00; text-decoration-color: #00af00\">13</span>, <span style=\"color: #00af00; text-decoration-color: #00af00\">13</span>, <span style=\"color: #00af00; text-decoration-color: #00af00\">64</span>)     │        <span style=\"color: #00af00; text-decoration-color: #00af00\">18,496</span> │\n",
       "├─────────────────────────────────┼────────────────────────┼───────────────┤\n",
       "│ batch_normalization_4           │ (<span style=\"color: #00d7ff; text-decoration-color: #00d7ff\">None</span>, <span style=\"color: #00af00; text-decoration-color: #00af00\">13</span>, <span style=\"color: #00af00; text-decoration-color: #00af00\">13</span>, <span style=\"color: #00af00; text-decoration-color: #00af00\">64</span>)     │           <span style=\"color: #00af00; text-decoration-color: #00af00\">256</span> │\n",
       "│ (<span style=\"color: #0087ff; text-decoration-color: #0087ff\">BatchNormalization</span>)            │                        │               │\n",
       "├─────────────────────────────────┼────────────────────────┼───────────────┤\n",
       "│ max_pooling2d_4 (<span style=\"color: #0087ff; text-decoration-color: #0087ff\">MaxPooling2D</span>)  │ (<span style=\"color: #00d7ff; text-decoration-color: #00d7ff\">None</span>, <span style=\"color: #00af00; text-decoration-color: #00af00\">6</span>, <span style=\"color: #00af00; text-decoration-color: #00af00\">6</span>, <span style=\"color: #00af00; text-decoration-color: #00af00\">64</span>)       │             <span style=\"color: #00af00; text-decoration-color: #00af00\">0</span> │\n",
       "├─────────────────────────────────┼────────────────────────┼───────────────┤\n",
       "│ conv2d_5 (<span style=\"color: #0087ff; text-decoration-color: #0087ff\">Conv2D</span>)               │ (<span style=\"color: #00d7ff; text-decoration-color: #00d7ff\">None</span>, <span style=\"color: #00af00; text-decoration-color: #00af00\">4</span>, <span style=\"color: #00af00; text-decoration-color: #00af00\">4</span>, <span style=\"color: #00af00; text-decoration-color: #00af00\">128</span>)      │        <span style=\"color: #00af00; text-decoration-color: #00af00\">73,856</span> │\n",
       "├─────────────────────────────────┼────────────────────────┼───────────────┤\n",
       "│ batch_normalization_5           │ (<span style=\"color: #00d7ff; text-decoration-color: #00d7ff\">None</span>, <span style=\"color: #00af00; text-decoration-color: #00af00\">4</span>, <span style=\"color: #00af00; text-decoration-color: #00af00\">4</span>, <span style=\"color: #00af00; text-decoration-color: #00af00\">128</span>)      │           <span style=\"color: #00af00; text-decoration-color: #00af00\">512</span> │\n",
       "│ (<span style=\"color: #0087ff; text-decoration-color: #0087ff\">BatchNormalization</span>)            │                        │               │\n",
       "├─────────────────────────────────┼────────────────────────┼───────────────┤\n",
       "│ max_pooling2d_5 (<span style=\"color: #0087ff; text-decoration-color: #0087ff\">MaxPooling2D</span>)  │ (<span style=\"color: #00d7ff; text-decoration-color: #00d7ff\">None</span>, <span style=\"color: #00af00; text-decoration-color: #00af00\">2</span>, <span style=\"color: #00af00; text-decoration-color: #00af00\">2</span>, <span style=\"color: #00af00; text-decoration-color: #00af00\">128</span>)      │             <span style=\"color: #00af00; text-decoration-color: #00af00\">0</span> │\n",
       "├─────────────────────────────────┼────────────────────────┼───────────────┤\n",
       "│ flatten_1 (<span style=\"color: #0087ff; text-decoration-color: #0087ff\">Flatten</span>)             │ (<span style=\"color: #00d7ff; text-decoration-color: #00d7ff\">None</span>, <span style=\"color: #00af00; text-decoration-color: #00af00\">512</span>)            │             <span style=\"color: #00af00; text-decoration-color: #00af00\">0</span> │\n",
       "├─────────────────────────────────┼────────────────────────┼───────────────┤\n",
       "│ dense_2 (<span style=\"color: #0087ff; text-decoration-color: #0087ff\">Dense</span>)                 │ (<span style=\"color: #00d7ff; text-decoration-color: #00d7ff\">None</span>, <span style=\"color: #00af00; text-decoration-color: #00af00\">256</span>)            │       <span style=\"color: #00af00; text-decoration-color: #00af00\">131,328</span> │\n",
       "├─────────────────────────────────┼────────────────────────┼───────────────┤\n",
       "│ dropout_1 (<span style=\"color: #0087ff; text-decoration-color: #0087ff\">Dropout</span>)             │ (<span style=\"color: #00d7ff; text-decoration-color: #00d7ff\">None</span>, <span style=\"color: #00af00; text-decoration-color: #00af00\">256</span>)            │             <span style=\"color: #00af00; text-decoration-color: #00af00\">0</span> │\n",
       "├─────────────────────────────────┼────────────────────────┼───────────────┤\n",
       "│ dense_3 (<span style=\"color: #0087ff; text-decoration-color: #0087ff\">Dense</span>)                 │ (<span style=\"color: #00d7ff; text-decoration-color: #00d7ff\">None</span>, <span style=\"color: #00af00; text-decoration-color: #00af00\">62</span>)             │        <span style=\"color: #00af00; text-decoration-color: #00af00\">15,934</span> │\n",
       "└─────────────────────────────────┴────────────────────────┴───────────────┘\n",
       "</pre>\n"
      ],
      "text/plain": [
       "┏━━━━━━━━━━━━━━━━━━━━━━━━━━━━━━━━━┳━━━━━━━━━━━━━━━━━━━━━━━━┳━━━━━━━━━━━━━━━┓\n",
       "┃\u001b[1m \u001b[0m\u001b[1mLayer (type)                   \u001b[0m\u001b[1m \u001b[0m┃\u001b[1m \u001b[0m\u001b[1mOutput Shape          \u001b[0m\u001b[1m \u001b[0m┃\u001b[1m \u001b[0m\u001b[1m      Param #\u001b[0m\u001b[1m \u001b[0m┃\n",
       "┡━━━━━━━━━━━━━━━━━━━━━━━━━━━━━━━━━╇━━━━━━━━━━━━━━━━━━━━━━━━╇━━━━━━━━━━━━━━━┩\n",
       "│ conv2d_3 (\u001b[38;5;33mConv2D\u001b[0m)               │ (\u001b[38;5;45mNone\u001b[0m, \u001b[38;5;34m30\u001b[0m, \u001b[38;5;34m30\u001b[0m, \u001b[38;5;34m32\u001b[0m)     │           \u001b[38;5;34m320\u001b[0m │\n",
       "├─────────────────────────────────┼────────────────────────┼───────────────┤\n",
       "│ batch_normalization_3           │ (\u001b[38;5;45mNone\u001b[0m, \u001b[38;5;34m30\u001b[0m, \u001b[38;5;34m30\u001b[0m, \u001b[38;5;34m32\u001b[0m)     │           \u001b[38;5;34m128\u001b[0m │\n",
       "│ (\u001b[38;5;33mBatchNormalization\u001b[0m)            │                        │               │\n",
       "├─────────────────────────────────┼────────────────────────┼───────────────┤\n",
       "│ max_pooling2d_3 (\u001b[38;5;33mMaxPooling2D\u001b[0m)  │ (\u001b[38;5;45mNone\u001b[0m, \u001b[38;5;34m15\u001b[0m, \u001b[38;5;34m15\u001b[0m, \u001b[38;5;34m32\u001b[0m)     │             \u001b[38;5;34m0\u001b[0m │\n",
       "├─────────────────────────────────┼────────────────────────┼───────────────┤\n",
       "│ conv2d_4 (\u001b[38;5;33mConv2D\u001b[0m)               │ (\u001b[38;5;45mNone\u001b[0m, \u001b[38;5;34m13\u001b[0m, \u001b[38;5;34m13\u001b[0m, \u001b[38;5;34m64\u001b[0m)     │        \u001b[38;5;34m18,496\u001b[0m │\n",
       "├─────────────────────────────────┼────────────────────────┼───────────────┤\n",
       "│ batch_normalization_4           │ (\u001b[38;5;45mNone\u001b[0m, \u001b[38;5;34m13\u001b[0m, \u001b[38;5;34m13\u001b[0m, \u001b[38;5;34m64\u001b[0m)     │           \u001b[38;5;34m256\u001b[0m │\n",
       "│ (\u001b[38;5;33mBatchNormalization\u001b[0m)            │                        │               │\n",
       "├─────────────────────────────────┼────────────────────────┼───────────────┤\n",
       "│ max_pooling2d_4 (\u001b[38;5;33mMaxPooling2D\u001b[0m)  │ (\u001b[38;5;45mNone\u001b[0m, \u001b[38;5;34m6\u001b[0m, \u001b[38;5;34m6\u001b[0m, \u001b[38;5;34m64\u001b[0m)       │             \u001b[38;5;34m0\u001b[0m │\n",
       "├─────────────────────────────────┼────────────────────────┼───────────────┤\n",
       "│ conv2d_5 (\u001b[38;5;33mConv2D\u001b[0m)               │ (\u001b[38;5;45mNone\u001b[0m, \u001b[38;5;34m4\u001b[0m, \u001b[38;5;34m4\u001b[0m, \u001b[38;5;34m128\u001b[0m)      │        \u001b[38;5;34m73,856\u001b[0m │\n",
       "├─────────────────────────────────┼────────────────────────┼───────────────┤\n",
       "│ batch_normalization_5           │ (\u001b[38;5;45mNone\u001b[0m, \u001b[38;5;34m4\u001b[0m, \u001b[38;5;34m4\u001b[0m, \u001b[38;5;34m128\u001b[0m)      │           \u001b[38;5;34m512\u001b[0m │\n",
       "│ (\u001b[38;5;33mBatchNormalization\u001b[0m)            │                        │               │\n",
       "├─────────────────────────────────┼────────────────────────┼───────────────┤\n",
       "│ max_pooling2d_5 (\u001b[38;5;33mMaxPooling2D\u001b[0m)  │ (\u001b[38;5;45mNone\u001b[0m, \u001b[38;5;34m2\u001b[0m, \u001b[38;5;34m2\u001b[0m, \u001b[38;5;34m128\u001b[0m)      │             \u001b[38;5;34m0\u001b[0m │\n",
       "├─────────────────────────────────┼────────────────────────┼───────────────┤\n",
       "│ flatten_1 (\u001b[38;5;33mFlatten\u001b[0m)             │ (\u001b[38;5;45mNone\u001b[0m, \u001b[38;5;34m512\u001b[0m)            │             \u001b[38;5;34m0\u001b[0m │\n",
       "├─────────────────────────────────┼────────────────────────┼───────────────┤\n",
       "│ dense_2 (\u001b[38;5;33mDense\u001b[0m)                 │ (\u001b[38;5;45mNone\u001b[0m, \u001b[38;5;34m256\u001b[0m)            │       \u001b[38;5;34m131,328\u001b[0m │\n",
       "├─────────────────────────────────┼────────────────────────┼───────────────┤\n",
       "│ dropout_1 (\u001b[38;5;33mDropout\u001b[0m)             │ (\u001b[38;5;45mNone\u001b[0m, \u001b[38;5;34m256\u001b[0m)            │             \u001b[38;5;34m0\u001b[0m │\n",
       "├─────────────────────────────────┼────────────────────────┼───────────────┤\n",
       "│ dense_3 (\u001b[38;5;33mDense\u001b[0m)                 │ (\u001b[38;5;45mNone\u001b[0m, \u001b[38;5;34m62\u001b[0m)             │        \u001b[38;5;34m15,934\u001b[0m │\n",
       "└─────────────────────────────────┴────────────────────────┴───────────────┘\n"
      ]
     },
     "metadata": {},
     "output_type": "display_data"
    },
    {
     "data": {
      "text/html": [
       "<pre style=\"white-space:pre;overflow-x:auto;line-height:normal;font-family:Menlo,'DejaVu Sans Mono',consolas,'Courier New',monospace\"><span style=\"font-weight: bold\"> Total params: </span><span style=\"color: #00af00; text-decoration-color: #00af00\">240,830</span> (940.74 KB)\n",
       "</pre>\n"
      ],
      "text/plain": [
       "\u001b[1m Total params: \u001b[0m\u001b[38;5;34m240,830\u001b[0m (940.74 KB)\n"
      ]
     },
     "metadata": {},
     "output_type": "display_data"
    },
    {
     "data": {
      "text/html": [
       "<pre style=\"white-space:pre;overflow-x:auto;line-height:normal;font-family:Menlo,'DejaVu Sans Mono',consolas,'Courier New',monospace\"><span style=\"font-weight: bold\"> Trainable params: </span><span style=\"color: #00af00; text-decoration-color: #00af00\">240,382</span> (938.99 KB)\n",
       "</pre>\n"
      ],
      "text/plain": [
       "\u001b[1m Trainable params: \u001b[0m\u001b[38;5;34m240,382\u001b[0m (938.99 KB)\n"
      ]
     },
     "metadata": {},
     "output_type": "display_data"
    },
    {
     "data": {
      "text/html": [
       "<pre style=\"white-space:pre;overflow-x:auto;line-height:normal;font-family:Menlo,'DejaVu Sans Mono',consolas,'Courier New',monospace\"><span style=\"font-weight: bold\"> Non-trainable params: </span><span style=\"color: #00af00; text-decoration-color: #00af00\">448</span> (1.75 KB)\n",
       "</pre>\n"
      ],
      "text/plain": [
       "\u001b[1m Non-trainable params: \u001b[0m\u001b[38;5;34m448\u001b[0m (1.75 KB)\n"
      ]
     },
     "metadata": {},
     "output_type": "display_data"
    }
   ],
   "source": [
    "CNN.summary()"
   ]
  },
  {
   "cell_type": "markdown",
   "id": "5f2f99a5-02bf-41e6-9bde-279353dcae98",
   "metadata": {},
   "source": [
    "The **`summary()`** method provides a **detailed overview** of a model's **architecture**. It also displays some additional information like:\n",
    "\n",
    "**Param #**: Lists the number of parameters (weights and biases) in each layer. This helps in understanding the complexity and capacity of the model.\n",
    "\n",
    "**Total Params**: Displays the **total** number of parameters in the model, including **both** trainable and non-trainable parameters.\n",
    "\n",
    "**Trainable Params**: Shows the number of parameters that are **updated** during training.\n",
    "\n",
    "**Non-Trainable Params**: Displays the number of parameters that are **not updated** during training (e.g., fixed weights in some layers)."
   ]
  },
  {
   "cell_type": "markdown",
   "id": "69821aaf-d9a7-4aa1-8f32-90094fcfc250",
   "metadata": {},
   "source": [
    "## Compiling the Neural Network"
   ]
  },
  {
   "cell_type": "markdown",
   "id": "60f5362e-b30c-4757-98de-8dfcf6efcbea",
   "metadata": {},
   "source": [
    "The **`compile()`** method in **Keras** configures the model for training. It includes a key set of parameters that need to be properly set up for specific classifications.\n",
    "\n",
    "**Optimizer**: Specifies the optimization algorithm to use for training the model. **`adam`** is a popular optimizer known for combining the advantages of two other optimizers: **`AdaGrad`** and **`RMSProp`**. It adjusts the learning rate during training and is often used as a default choice for many models due to its good performance and efficiency.\n",
    "\n",
    "**Loss Function**: Specifies the loss function used to measure how well the model's predictions match the true labels. **`SparseCategoricalCrossentropy`** is used for classification problems where the labels are integers representing **class indices**. It computes the cross-entropy loss between the true labels and the predicted labels. It's particularly useful for problems where you have multiple classes and the labels are integers.\n",
    "\n",
    "**Metrics**: A list of metrics to evaluate the performance of the model. In this case, **`accuracy`** is specified, which calculates the proportion of correct predictions. "
   ]
  },
  {
   "cell_type": "code",
   "execution_count": 174,
   "id": "34bd317b-f80f-4fe2-b692-1b670e748dbc",
   "metadata": {},
   "outputs": [],
   "source": [
    "CNN.compile(optimizer = 'adam', loss = tf.keras.losses.SparseCategoricalCrossentropy(), metrics =['accuracy'])"
   ]
  },
  {
   "cell_type": "markdown",
   "id": "da5189ba-7138-4ca3-9438-d861c339f3b2",
   "metadata": {},
   "source": [
    "## Fitting the Neural Network"
   ]
  },
  {
   "cell_type": "markdown",
   "id": "28dda675-8116-4233-a25d-fcacd866e55d",
   "metadata": {},
   "source": [
    "The **`fit()`** method in **Keras** is used to train the model on the provided data. It also has parameters that are essential to cover.\n",
    "\n",
    "1. **Training Data**:\n",
    "   - **`x_train`**: The input data used to train the model. \n",
    "   - **`y_train`**: The target labels or outputs for the training data. \n",
    "\n",
    "2. **Validation Data**:\n",
    "     - **`x_test`**: The input data for validation.\n",
    "     - **`y_test`**: The target labels for the validation data. \n",
    "\n",
    "3. **Batch Size**: Specifies the **number** of samples that will be processed together in **one forward/backward pass** during training. A batch size of **32** means that the model will update its weights after processing every **32** samples.\n",
    "\n",
    "4. **Epochs**: The **number of times** the **entire training dataset** will be passed through the model during training. Each **epoch** consists of a **complete** forward and backward pass over the entire training dataset.\n",
    "\n",
    "Once the training process starts, **progress** will be shown through **each epoch** and validation metrics will be **provided** to monitor the model's performance on the **test data**."
   ]
  },
  {
   "cell_type": "code",
   "execution_count": 177,
   "id": "65908626-d551-4700-8647-14e518f10216",
   "metadata": {},
   "outputs": [
    {
     "name": "stdout",
     "output_type": "stream",
     "text": [
      "Epoch 1/50\n",
      "\u001b[1m86/86\u001b[0m \u001b[32m━━━━━━━━━━━━━━━━━━━━\u001b[0m\u001b[37m\u001b[0m \u001b[1m2s\u001b[0m 13ms/step - accuracy: 0.0790 - loss: 4.1133 - val_accuracy: 0.0293 - val_loss: 4.9733\n",
      "Epoch 2/50\n",
      "\u001b[1m86/86\u001b[0m \u001b[32m━━━━━━━━━━━━━━━━━━━━\u001b[0m\u001b[37m\u001b[0m \u001b[1m1s\u001b[0m 12ms/step - accuracy: 0.4375 - loss: 2.1111 - val_accuracy: 0.0249 - val_loss: 6.3607\n",
      "Epoch 3/50\n",
      "\u001b[1m86/86\u001b[0m \u001b[32m━━━━━━━━━━━━━━━━━━━━\u001b[0m\u001b[37m\u001b[0m \u001b[1m1s\u001b[0m 12ms/step - accuracy: 0.6619 - loss: 1.1398 - val_accuracy: 0.0205 - val_loss: 6.1322\n",
      "Epoch 4/50\n",
      "\u001b[1m86/86\u001b[0m \u001b[32m━━━━━━━━━━━━━━━━━━━━\u001b[0m\u001b[37m\u001b[0m \u001b[1m1s\u001b[0m 12ms/step - accuracy: 0.7888 - loss: 0.7497 - val_accuracy: 0.0220 - val_loss: 4.9790\n",
      "Epoch 5/50\n",
      "\u001b[1m86/86\u001b[0m \u001b[32m━━━━━━━━━━━━━━━━━━━━\u001b[0m\u001b[37m\u001b[0m \u001b[1m1s\u001b[0m 12ms/step - accuracy: 0.8480 - loss: 0.4975 - val_accuracy: 0.2346 - val_loss: 3.0356\n",
      "Epoch 6/50\n",
      "\u001b[1m86/86\u001b[0m \u001b[32m━━━━━━━━━━━━━━━━━━━━\u001b[0m\u001b[37m\u001b[0m \u001b[1m1s\u001b[0m 12ms/step - accuracy: 0.9024 - loss: 0.3242 - val_accuracy: 0.5235 - val_loss: 1.7947\n",
      "Epoch 7/50\n",
      "\u001b[1m86/86\u001b[0m \u001b[32m━━━━━━━━━━━━━━━━━━━━\u001b[0m\u001b[37m\u001b[0m \u001b[1m1s\u001b[0m 13ms/step - accuracy: 0.9488 - loss: 0.1878 - val_accuracy: 0.6012 - val_loss: 1.5032\n",
      "Epoch 8/50\n",
      "\u001b[1m86/86\u001b[0m \u001b[32m━━━━━━━━━━━━━━━━━━━━\u001b[0m\u001b[37m\u001b[0m \u001b[1m1s\u001b[0m 12ms/step - accuracy: 0.9490 - loss: 0.1759 - val_accuracy: 0.7023 - val_loss: 1.1501\n",
      "Epoch 9/50\n",
      "\u001b[1m86/86\u001b[0m \u001b[32m━━━━━━━━━━━━━━━━━━━━\u001b[0m\u001b[37m\u001b[0m \u001b[1m1s\u001b[0m 12ms/step - accuracy: 0.9713 - loss: 0.1027 - val_accuracy: 0.6774 - val_loss: 1.2510\n",
      "Epoch 10/50\n",
      "\u001b[1m86/86\u001b[0m \u001b[32m━━━━━━━━━━━━━━━━━━━━\u001b[0m\u001b[37m\u001b[0m \u001b[1m1s\u001b[0m 12ms/step - accuracy: 0.9811 - loss: 0.0737 - val_accuracy: 0.6804 - val_loss: 1.2850\n",
      "Epoch 11/50\n",
      "\u001b[1m86/86\u001b[0m \u001b[32m━━━━━━━━━━━━━━━━━━━━\u001b[0m\u001b[37m\u001b[0m \u001b[1m1s\u001b[0m 12ms/step - accuracy: 0.9787 - loss: 0.0792 - val_accuracy: 0.6393 - val_loss: 1.3120\n",
      "Epoch 12/50\n",
      "\u001b[1m86/86\u001b[0m \u001b[32m━━━━━━━━━━━━━━━━━━━━\u001b[0m\u001b[37m\u001b[0m \u001b[1m1s\u001b[0m 13ms/step - accuracy: 0.9781 - loss: 0.0723 - val_accuracy: 0.6393 - val_loss: 1.4853\n",
      "Epoch 13/50\n",
      "\u001b[1m86/86\u001b[0m \u001b[32m━━━━━━━━━━━━━━━━━━━━\u001b[0m\u001b[37m\u001b[0m \u001b[1m1s\u001b[0m 13ms/step - accuracy: 0.9760 - loss: 0.0885 - val_accuracy: 0.6466 - val_loss: 1.4228\n",
      "Epoch 14/50\n",
      "\u001b[1m86/86\u001b[0m \u001b[32m━━━━━━━━━━━━━━━━━━━━\u001b[0m\u001b[37m\u001b[0m \u001b[1m1s\u001b[0m 13ms/step - accuracy: 0.9828 - loss: 0.0695 - val_accuracy: 0.6437 - val_loss: 1.5377\n",
      "Epoch 15/50\n",
      "\u001b[1m86/86\u001b[0m \u001b[32m━━━━━━━━━━━━━━━━━━━━\u001b[0m\u001b[37m\u001b[0m \u001b[1m1s\u001b[0m 13ms/step - accuracy: 0.9835 - loss: 0.0522 - val_accuracy: 0.6642 - val_loss: 1.6556\n",
      "Epoch 16/50\n",
      "\u001b[1m86/86\u001b[0m \u001b[32m━━━━━━━━━━━━━━━━━━━━\u001b[0m\u001b[37m\u001b[0m \u001b[1m1s\u001b[0m 12ms/step - accuracy: 0.9838 - loss: 0.0534 - val_accuracy: 0.6540 - val_loss: 1.5251\n",
      "Epoch 17/50\n",
      "\u001b[1m86/86\u001b[0m \u001b[32m━━━━━━━━━━━━━━━━━━━━\u001b[0m\u001b[37m\u001b[0m \u001b[1m1s\u001b[0m 12ms/step - accuracy: 0.9856 - loss: 0.0545 - val_accuracy: 0.6393 - val_loss: 1.6940\n",
      "Epoch 18/50\n",
      "\u001b[1m86/86\u001b[0m \u001b[32m━━━━━━━━━━━━━━━━━━━━\u001b[0m\u001b[37m\u001b[0m \u001b[1m1s\u001b[0m 13ms/step - accuracy: 0.9871 - loss: 0.0546 - val_accuracy: 0.6188 - val_loss: 1.7297\n",
      "Epoch 19/50\n",
      "\u001b[1m86/86\u001b[0m \u001b[32m━━━━━━━━━━━━━━━━━━━━\u001b[0m\u001b[37m\u001b[0m \u001b[1m1s\u001b[0m 12ms/step - accuracy: 0.9803 - loss: 0.0657 - val_accuracy: 0.6510 - val_loss: 1.5543\n",
      "Epoch 20/50\n",
      "\u001b[1m86/86\u001b[0m \u001b[32m━━━━━━━━━━━━━━━━━━━━\u001b[0m\u001b[37m\u001b[0m \u001b[1m1s\u001b[0m 12ms/step - accuracy: 0.9696 - loss: 0.0862 - val_accuracy: 0.6877 - val_loss: 1.5180\n",
      "Epoch 21/50\n",
      "\u001b[1m86/86\u001b[0m \u001b[32m━━━━━━━━━━━━━━━━━━━━\u001b[0m\u001b[37m\u001b[0m \u001b[1m1s\u001b[0m 13ms/step - accuracy: 0.9826 - loss: 0.0522 - val_accuracy: 0.6437 - val_loss: 2.0740\n",
      "Epoch 22/50\n",
      "\u001b[1m86/86\u001b[0m \u001b[32m━━━━━━━━━━━━━━━━━━━━\u001b[0m\u001b[37m\u001b[0m \u001b[1m1s\u001b[0m 13ms/step - accuracy: 0.9760 - loss: 0.0676 - val_accuracy: 0.6129 - val_loss: 1.9172\n",
      "Epoch 23/50\n",
      "\u001b[1m86/86\u001b[0m \u001b[32m━━━━━━━━━━━━━━━━━━━━\u001b[0m\u001b[37m\u001b[0m \u001b[1m1s\u001b[0m 12ms/step - accuracy: 0.9737 - loss: 0.0756 - val_accuracy: 0.5850 - val_loss: 2.1628\n",
      "Epoch 24/50\n",
      "\u001b[1m86/86\u001b[0m \u001b[32m━━━━━━━━━━━━━━━━━━━━\u001b[0m\u001b[37m\u001b[0m \u001b[1m1s\u001b[0m 12ms/step - accuracy: 0.9781 - loss: 0.0789 - val_accuracy: 0.6642 - val_loss: 1.5605\n",
      "Epoch 25/50\n",
      "\u001b[1m86/86\u001b[0m \u001b[32m━━━━━━━━━━━━━━━━━━━━\u001b[0m\u001b[37m\u001b[0m \u001b[1m1s\u001b[0m 12ms/step - accuracy: 0.9693 - loss: 0.0796 - val_accuracy: 0.6114 - val_loss: 1.7105\n",
      "Epoch 26/50\n",
      "\u001b[1m86/86\u001b[0m \u001b[32m━━━━━━━━━━━━━━━━━━━━\u001b[0m\u001b[37m\u001b[0m \u001b[1m1s\u001b[0m 13ms/step - accuracy: 0.9676 - loss: 0.0974 - val_accuracy: 0.5865 - val_loss: 2.5411\n",
      "Epoch 27/50\n",
      "\u001b[1m86/86\u001b[0m \u001b[32m━━━━━━━━━━━━━━━━━━━━\u001b[0m\u001b[37m\u001b[0m \u001b[1m1s\u001b[0m 12ms/step - accuracy: 0.9792 - loss: 0.0712 - val_accuracy: 0.6862 - val_loss: 1.5688\n",
      "Epoch 28/50\n",
      "\u001b[1m86/86\u001b[0m \u001b[32m━━━━━━━━━━━━━━━━━━━━\u001b[0m\u001b[37m\u001b[0m \u001b[1m1s\u001b[0m 12ms/step - accuracy: 0.9919 - loss: 0.0301 - val_accuracy: 0.6701 - val_loss: 1.6845\n",
      "Epoch 29/50\n",
      "\u001b[1m86/86\u001b[0m \u001b[32m━━━━━━━━━━━━━━━━━━━━\u001b[0m\u001b[37m\u001b[0m \u001b[1m1s\u001b[0m 13ms/step - accuracy: 0.9935 - loss: 0.0285 - val_accuracy: 0.6642 - val_loss: 1.6117\n",
      "Epoch 30/50\n",
      "\u001b[1m86/86\u001b[0m \u001b[32m━━━━━━━━━━━━━━━━━━━━\u001b[0m\u001b[37m\u001b[0m \u001b[1m1s\u001b[0m 13ms/step - accuracy: 0.9889 - loss: 0.0359 - val_accuracy: 0.5894 - val_loss: 2.4718\n",
      "Epoch 31/50\n",
      "\u001b[1m86/86\u001b[0m \u001b[32m━━━━━━━━━━━━━━━━━━━━\u001b[0m\u001b[37m\u001b[0m \u001b[1m1s\u001b[0m 13ms/step - accuracy: 0.9921 - loss: 0.0313 - val_accuracy: 0.6114 - val_loss: 2.1576\n",
      "Epoch 32/50\n",
      "\u001b[1m86/86\u001b[0m \u001b[32m━━━━━━━━━━━━━━━━━━━━\u001b[0m\u001b[37m\u001b[0m \u001b[1m1s\u001b[0m 13ms/step - accuracy: 0.9883 - loss: 0.0333 - val_accuracy: 0.6672 - val_loss: 1.7879\n",
      "Epoch 33/50\n",
      "\u001b[1m86/86\u001b[0m \u001b[32m━━━━━━━━━━━━━━━━━━━━\u001b[0m\u001b[37m\u001b[0m \u001b[1m1s\u001b[0m 13ms/step - accuracy: 0.9811 - loss: 0.0653 - val_accuracy: 0.5850 - val_loss: 1.9626\n",
      "Epoch 34/50\n",
      "\u001b[1m86/86\u001b[0m \u001b[32m━━━━━━━━━━━━━━━━━━━━\u001b[0m\u001b[37m\u001b[0m \u001b[1m1s\u001b[0m 12ms/step - accuracy: 0.9816 - loss: 0.0661 - val_accuracy: 0.5557 - val_loss: 2.4763\n",
      "Epoch 35/50\n",
      "\u001b[1m86/86\u001b[0m \u001b[32m━━━━━━━━━━━━━━━━━━━━\u001b[0m\u001b[37m\u001b[0m \u001b[1m1s\u001b[0m 13ms/step - accuracy: 0.9851 - loss: 0.0471 - val_accuracy: 0.6804 - val_loss: 1.7679\n",
      "Epoch 36/50\n",
      "\u001b[1m86/86\u001b[0m \u001b[32m━━━━━━━━━━━━━━━━━━━━\u001b[0m\u001b[37m\u001b[0m \u001b[1m1s\u001b[0m 13ms/step - accuracy: 0.9954 - loss: 0.0185 - val_accuracy: 0.6818 - val_loss: 1.6945\n",
      "Epoch 37/50\n",
      "\u001b[1m86/86\u001b[0m \u001b[32m━━━━━━━━━━━━━━━━━━━━\u001b[0m\u001b[37m\u001b[0m \u001b[1m1s\u001b[0m 13ms/step - accuracy: 0.9927 - loss: 0.0254 - val_accuracy: 0.6804 - val_loss: 1.7377\n",
      "Epoch 38/50\n",
      "\u001b[1m86/86\u001b[0m \u001b[32m━━━━━━━━━━━━━━━━━━━━\u001b[0m\u001b[37m\u001b[0m \u001b[1m1s\u001b[0m 13ms/step - accuracy: 0.9920 - loss: 0.0312 - val_accuracy: 0.6437 - val_loss: 1.9969\n",
      "Epoch 39/50\n",
      "\u001b[1m86/86\u001b[0m \u001b[32m━━━━━━━━━━━━━━━━━━━━\u001b[0m\u001b[37m\u001b[0m \u001b[1m1s\u001b[0m 13ms/step - accuracy: 0.9897 - loss: 0.0340 - val_accuracy: 0.6833 - val_loss: 1.8130\n",
      "Epoch 40/50\n",
      "\u001b[1m86/86\u001b[0m \u001b[32m━━━━━━━━━━━━━━━━━━━━\u001b[0m\u001b[37m\u001b[0m \u001b[1m1s\u001b[0m 12ms/step - accuracy: 0.9888 - loss: 0.0340 - val_accuracy: 0.6818 - val_loss: 1.8548\n",
      "Epoch 41/50\n",
      "\u001b[1m86/86\u001b[0m \u001b[32m━━━━━━━━━━━━━━━━━━━━\u001b[0m\u001b[37m\u001b[0m \u001b[1m1s\u001b[0m 12ms/step - accuracy: 0.9902 - loss: 0.0325 - val_accuracy: 0.6804 - val_loss: 1.6539\n",
      "Epoch 42/50\n",
      "\u001b[1m86/86\u001b[0m \u001b[32m━━━━━━━━━━━━━━━━━━━━\u001b[0m\u001b[37m\u001b[0m \u001b[1m1s\u001b[0m 12ms/step - accuracy: 0.9828 - loss: 0.0533 - val_accuracy: 0.6496 - val_loss: 2.2289\n",
      "Epoch 43/50\n",
      "\u001b[1m86/86\u001b[0m \u001b[32m━━━━━━━━━━━━━━━━━━━━\u001b[0m\u001b[37m\u001b[0m \u001b[1m1s\u001b[0m 13ms/step - accuracy: 0.9818 - loss: 0.0534 - val_accuracy: 0.6642 - val_loss: 1.9260\n",
      "Epoch 44/50\n",
      "\u001b[1m86/86\u001b[0m \u001b[32m━━━━━━━━━━━━━━━━━━━━\u001b[0m\u001b[37m\u001b[0m \u001b[1m1s\u001b[0m 13ms/step - accuracy: 0.9801 - loss: 0.0559 - val_accuracy: 0.7023 - val_loss: 1.8803\n",
      "Epoch 45/50\n",
      "\u001b[1m86/86\u001b[0m \u001b[32m━━━━━━━━━━━━━━━━━━━━\u001b[0m\u001b[37m\u001b[0m \u001b[1m1s\u001b[0m 12ms/step - accuracy: 0.9943 - loss: 0.0224 - val_accuracy: 0.6364 - val_loss: 2.4004\n",
      "Epoch 46/50\n",
      "\u001b[1m86/86\u001b[0m \u001b[32m━━━━━━━━━━━━━━━━━━━━\u001b[0m\u001b[37m\u001b[0m \u001b[1m1s\u001b[0m 12ms/step - accuracy: 0.9888 - loss: 0.0289 - val_accuracy: 0.7141 - val_loss: 1.8781\n",
      "Epoch 47/50\n",
      "\u001b[1m86/86\u001b[0m \u001b[32m━━━━━━━━━━━━━━━━━━━━\u001b[0m\u001b[37m\u001b[0m \u001b[1m1s\u001b[0m 12ms/step - accuracy: 0.9919 - loss: 0.0315 - val_accuracy: 0.6921 - val_loss: 1.8784\n",
      "Epoch 48/50\n",
      "\u001b[1m86/86\u001b[0m \u001b[32m━━━━━━━━━━━━━━━━━━━━\u001b[0m\u001b[37m\u001b[0m \u001b[1m1s\u001b[0m 12ms/step - accuracy: 0.9921 - loss: 0.0243 - val_accuracy: 0.6862 - val_loss: 1.9407\n",
      "Epoch 49/50\n",
      "\u001b[1m86/86\u001b[0m \u001b[32m━━━━━━━━━━━━━━━━━━━━\u001b[0m\u001b[37m\u001b[0m \u001b[1m1s\u001b[0m 13ms/step - accuracy: 0.9855 - loss: 0.0528 - val_accuracy: 0.6877 - val_loss: 1.7497\n",
      "Epoch 50/50\n",
      "\u001b[1m86/86\u001b[0m \u001b[32m━━━━━━━━━━━━━━━━━━━━\u001b[0m\u001b[37m\u001b[0m \u001b[1m1s\u001b[0m 12ms/step - accuracy: 0.9931 - loss: 0.0193 - val_accuracy: 0.6774 - val_loss: 1.8089\n"
     ]
    },
    {
     "data": {
      "text/plain": [
       "<keras.src.callbacks.history.History at 0x311b68230>"
      ]
     },
     "execution_count": 177,
     "metadata": {},
     "output_type": "execute_result"
    }
   ],
   "source": [
    "CNN.fit(x_train, y_train, validation_data=(x_test, y_test), batch_size=32, epochs = 50)"
   ]
  },
  {
   "cell_type": "markdown",
   "id": "f135a1cb-77a9-44c4-b0d9-cffc9c978457",
   "metadata": {},
   "source": [
    "## Evaluating the Neural Network"
   ]
  },
  {
   "cell_type": "markdown",
   "id": "7072f277-cff9-4d66-979e-ec91212aa0ed",
   "metadata": {},
   "source": [
    "To assess the performance of a trained model on a dataset, the **`evaluate()`** method is used.\n",
    "\n",
    "1. **Inputs to `evaluate`**:\n",
    "   - **`x_test`**: The input data for evaluation.\n",
    "   - **`y_test`**: The true labels for the `x_test` data.\n",
    "\n",
    "2. **Outputs from `evaluate`**:\n",
    "   - **`loss`**: The value of the loss function computed on the test data. It represents how well the model's predictions match the true labels. Lower loss values indicate better model performance.\n",
    "   - **`accuracy`**: The accuracy metric computed on the test data. It represents the proportion of correctly classified samples out of the total number of samples. Higher accuracy values indicate better performance."
   ]
  },
  {
   "cell_type": "code",
   "execution_count": 180,
   "id": "76581edc-19a8-4b4b-b75a-95836a8f1a9b",
   "metadata": {},
   "outputs": [
    {
     "name": "stdout",
     "output_type": "stream",
     "text": [
      "\u001b[1m22/22\u001b[0m \u001b[32m━━━━━━━━━━━━━━━━━━━━\u001b[0m\u001b[37m\u001b[0m \u001b[1m0s\u001b[0m 3ms/step - accuracy: 0.6458 - loss: 2.0054\n",
      "Validation Loss: 1.8088903427124023\n",
      "Validation Accuracy: 0.6774193644523621\n"
     ]
    }
   ],
   "source": [
    "loss, accuracy = CNN.evaluate(x_test, y_test)\n",
    "print(f'Validation Loss: {loss}')\n",
    "print(f'Validation Accuracy: {accuracy}')"
   ]
  },
  {
   "cell_type": "markdown",
   "id": "1170dfe2-ffd6-40bf-a389-4c9458e7f86b",
   "metadata": {},
   "source": [
    "The validation accuracy will most likely deviate between the **mid 60s** up to the **low 70s** with the fairly **simple CNN model** we've implemented. This level of accuracy will **do the job** for the scope of predictions we'll be making with it."
   ]
  },
  {
   "cell_type": "markdown",
   "id": "b8bdbe2d-f48d-42aa-aa48-b3ccf1124ca1",
   "metadata": {},
   "source": [
    "## Predicting the Image Label"
   ]
  },
  {
   "cell_type": "markdown",
   "id": "a8f32fbf-0df1-49fb-9a64-f410c732aba1",
   "metadata": {},
   "source": [
    "After everything we've done, our model is all **ready** to make predictions on new and unique test data. So as long as we ensure that new data is in the **correct type**, any test image we will throw at it is **fair game**."
   ]
  },
  {
   "cell_type": "code",
   "execution_count": 183,
   "id": "b8e15999-e508-45fb-95e4-58a012b97bbb",
   "metadata": {},
   "outputs": [],
   "source": [
    "image_p = '/Users/alperenkaradag/Desktop/Ex3.png'\n",
    "image_ready = np.array([load_and_preprocess_image(image_p)])\n",
    "image_ready = cv2.normalize(image_ready, None, 1, 0, cv2.NORM_MINMAX, cv2.CV_8U)"
   ]
  },
  {
   "cell_type": "markdown",
   "id": "61926bdb-b57a-451d-be4e-8c24a62625a6",
   "metadata": {},
   "source": [
    "The preprocessing part that we've done before."
   ]
  },
  {
   "cell_type": "code",
   "execution_count": 185,
   "id": "81207b9d-7e7f-4b30-a81d-fc62c5f8acd7",
   "metadata": {},
   "outputs": [
    {
     "name": "stdout",
     "output_type": "stream",
     "text": [
      "\u001b[1m1/1\u001b[0m \u001b[32m━━━━━━━━━━━━━━━━━━━━\u001b[0m\u001b[37m\u001b[0m \u001b[1m0s\u001b[0m 35ms/step\n",
      "[17]\n"
     ]
    }
   ],
   "source": [
    "output = CNN.predict(image_ready)\n",
    "\n",
    "predicted_indices = np.argmax(output, axis=1)\n",
    "\n",
    "print(predicted_indices)"
   ]
  },
  {
   "cell_type": "markdown",
   "id": "9f24f2f5-1fea-4857-8616-b45f9bec6f58",
   "metadata": {},
   "source": [
    "The **`predict()`** method returns an array of predicted values. What we want to get from this array of values, however, is specifically the maximum value.\n",
    "\n",
    "**`np.argmax()`** identifies the index of the maximum value along the specified axis. For classification problems, each entry in **`output`** is a vector of probabilities for each class. **`axis=1`** specifies that the function should look for the maximum value along the axis representing classes (i.e., for each sample).\n",
    "     \n",
    "**`predicted_indices`** entails which class (by index) the model has predicted for each image. And since there’s only one image, it will consist of a single value. "
   ]
  },
  {
   "cell_type": "markdown",
   "id": "808f5757-a695-432e-bb72-d829bf9bdd49",
   "metadata": {},
   "source": [
    "## Handwritten Letter Classification **DEMO**"
   ]
  },
  {
   "cell_type": "markdown",
   "id": "cd510c8a-ea44-470b-91c5-950bbb26a996",
   "metadata": {},
   "source": [
    "Technically speaking, we've **achieved** our goal and received a prediction from the model, but the output is in the form of **encoded integer** values rather than the original **string labels**. This is because during the training and evaluation of the model, categorical labels were converted into numerical formats to **facilitate processing** by the neural network.\n",
    "\n",
    "After receiving the numerical prediction from the model, we need to **convert** these numbers back to their corresponding string labels to understand what the model has predicted in **human-readable** terms.\n",
    "\n",
    "We will write a **DEMO** program to achieve this. This program will take a **file path** for an image as **input**, make a **prediction** with the **trained model**, output a predicted numerical index, use the **trained label encoder** to map the index back to one of the **string labels**, and **display** the result. This ensures that predictions are presented in a meaningful format aligned with the initial labels used in the dataset."
   ]
  },
  {
   "cell_type": "code",
   "execution_count": 189,
   "id": "f03f3b9a-fca8-4451-bb9c-44bf523e6b4b",
   "metadata": {},
   "outputs": [],
   "source": [
    "def predict_label(image_path):\n",
    "    image_processed = np.array([load_and_preprocess_image(image_path)])  # Preprocess the image\n",
    "    image_processed = cv2.normalize(image_processed, None, 1, 0, cv2.NORM_MINMAX, cv2.CV_8U) # Normalize the image\n",
    "    \n",
    "    prediction = CNN.predict([image_processed]) # Make prediction\n",
    "    predicted_indices = np.argmax(prediction, axis=1)\n",
    "    predicted_labels = label_encoder.inverse_transform(predicted_indices) # Use inverse_transform to get original labels\n",
    "    \n",
    "    plt.imshow(image_processed[0]) # Display input image\n",
    "    plt.axis('off')\n",
    "    print(f'The predicted label for the image is: {predicted_labels}') # Print the result"
   ]
  },
  {
   "cell_type": "markdown",
   "id": "0183cb56-3efc-4771-8375-20e9c6b15f4d",
   "metadata": {},
   "source": [
    "We can define another function called **`predict_label()`** to simplify the program.\n",
    "\n",
    "- The function **loads** and **preprocesses** the image from the given file path, preparing it for input into the **CNN** model.\n",
    "\n",
    "- Adds an **extra dimension** to the image data to match the input shape expected by the CNN.\n",
    "\n",
    "- Uses the **trained CNN model** to **predict** the class of the processed image.\n",
    "\n",
    "- **Converts** the predicted numerical class index back to the original label using **`label_encoder`**.\n",
    "\n",
    "- Shows the preprocessed image using **Matplotlib** for visual inspection.\n",
    "\n",
    "- **Outputs** the predicted label to the console."
   ]
  },
  {
   "cell_type": "code",
   "execution_count": 239,
   "id": "b174be3c-f032-48b1-a69d-97cfdd28993b",
   "metadata": {},
   "outputs": [
    {
     "name": "stdin",
     "output_type": "stream",
     "text": [
      "Enter the file path of the image:  Desktop/Ex2.png\n"
     ]
    },
    {
     "name": "stdout",
     "output_type": "stream",
     "text": [
      "\u001b[1m1/1\u001b[0m \u001b[32m━━━━━━━━━━━━━━━━━━━━\u001b[0m\u001b[37m\u001b[0m \u001b[1m0s\u001b[0m 9ms/step\n",
      "The predicted label for the image is: ['B']\n"
     ]
    },
    {
     "data": {
      "image/png": "[encoded data removed]",
      "text/plain": [
       "<Figure size 640x480 with 1 Axes>"
      ]
     },
     "metadata": {},
     "output_type": "display_data"
    }
   ],
   "source": [
    "# Example usage\n",
    "if __name__ == \"__main__\":\n",
    "    file_path = input(\"Enter the file path of the image: \") # Input file path\n",
    "\n",
    "    predict_label(file_path) # Predict and print the label"
   ]
  },
  {
   "cell_type": "markdown",
   "id": "ff38ed03-fd10-49d1-ba7c-b5373c0ad1db",
   "metadata": {},
   "source": [
    "This code snippet allows the user to provide an image file path via standard input, then processes and predicts the label of the image using the **`predict_label`** function. Here’s a brief overview:\n",
    "\n",
    "It **prompts** the user to enter the **file path** of an image. The provided file path is passed to the **`predict_label()`** function, which **processes** the image, makes a **prediction**, and **displays** the result.\n",
    "\n",
    "You can create as many test images as you please by either **physically writing** and scanning letters or doing the same thing **digitally** and see how well the model functions. **Keep in mind** that the model is **expected to make mistakes** due to the accuracy range it performs in. The **key detail** is that it will make **sensible mistakes** that are similar in appearance to the correct label (Guessing **'B'** for the correct label of **'P'** for example). "
   ]
  },
  {
   "cell_type": "markdown",
   "id": "b20a1f26-2851-497c-8716-ca7deb9a35ed",
   "metadata": {},
   "source": [
    "## Conclusion"
   ]
  },
  {
   "cell_type": "markdown",
   "id": "211efa16-ac40-4e93-b1e6-374f40e5005d",
   "metadata": {},
   "source": [
    "In the end, we have successfully developed and evaluated a **Convolutional Neural Network (CNN)** for handwritten character classification. We've even written a basic **DEMO** program that can perform **predictions** by taking input and running it through the trained model. The **CNN** model demonstrated robust performance on our dataset, achieving a satisfactory validation accuracy of approximately **65-75%** during training. \n",
    "\n",
    "The **CNN's** architecture, which includes multiple **convolutional** and **pooling **layers, effectively captured the spatial **hierarchies** of the handwritten characters, enhancing its predictive power.For future applications and **predictive analysis**, this **CNN** model stands out as a reliable choice for accurate and efficient handwritten character recognition."
   ]
  },
  {
   "cell_type": "markdown",
   "id": "6d08e1f1-6f62-4a55-b018-480608acad4d",
   "metadata": {},
   "source": [
    "## References"
   ]
  },
  {
   "cell_type": "markdown",
   "id": "5e6895c5-8d85-4543-ad99-1a5192f0d316",
   "metadata": {},
   "source": [
    "- https://www.ibm.com/topics/machine-learning\n",
    "\n",
    "- https://www.ibm.com/topics/supervised-learning\n",
    "\n",
    "- https://www.ibm.com/topics/convolutional-neural-networks\n",
    "\n",
    "- https://www.tensorflow.org/guide/keras\n",
    "\n",
    "- https://scikit-learn.org\n",
    "\n",
    "- Dhruvil Dave. (2020). English Handwritten Characters [Data set]. Kaggle."
   ]
  }
 ],
 "metadata": {
  "kernelspec": {
   "display_name": "Python 3 (ipykernel)",
   "language": "python",
   "name": "python3"
  },
  "language_info": {
   "codemirror_mode": {
    "name": "ipython",
    "version": 3
   },
   "file_extension": ".py",
   "mimetype": "text/x-python",
   "name": "python",
   "nbconvert_exporter": "python",
   "pygments_lexer": "ipython3",
   "version": "3.12.4"
  }
 },
 "nbformat": 4,
 "nbformat_minor": 5
}
